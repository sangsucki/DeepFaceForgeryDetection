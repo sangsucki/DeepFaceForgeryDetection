{
 "cells": [
  {
   "cell_type": "code",
   "execution_count": null,
   "metadata": {},
   "outputs": [],
   "source": [
    "# Detecting Deepfakes\n",
    "\n",
    "Members: Jaryl Ngan, Sangseok Lee, and Shota Takeshima\n",
    "\n",
    "This is a script to convert downloaded videoes into their frames."
   ]
  },
  {
   "cell_type": "code",
   "execution_count": null,
   "metadata": {
    "colab": {
     "base_uri": "https://localhost:8080/"
    },
    "id": "oGSX6dOZZ37l",
    "outputId": "cf0800fe-d97b-458b-bb03-1da8fc146bbb"
   },
   "outputs": [],
   "source": [
    "# # connect Google Drive\n",
    "# from google.colab import drive\n",
    "# drive.mount('/content/drive')"
   ]
  },
  {
   "cell_type": "code",
   "execution_count": 2,
   "metadata": {
    "id": "CQ-NOm6ibpyJ"
   },
   "outputs": [
    {
     "name": "stdout",
     "output_type": "stream",
     "text": [
      "/home/jovyan/work/DeepFakeDetection\n"
     ]
    }
   ],
   "source": [
    "# move to the working directory\n",
    "!pwd"
   ]
  },
  {
   "cell_type": "code",
   "execution_count": 3,
   "metadata": {
    "colab": {
     "base_uri": "https://localhost:8080/"
    },
    "id": "GAMkg01MbUUg",
    "outputId": "86479ed4-3c54-4588-fe7b-141ac08eef8c"
   },
   "outputs": [],
   "source": [
    "# Git clone a reference git repository\n",
    "# !pwd\n",
    "# !rm -rf DeepFaceForgeryDetection/\n",
    "# !git clone https://github.com/Megatvini/DeepFaceForgeryDetection.git"
   ]
  },
  {
   "cell_type": "code",
   "execution_count": 4,
   "metadata": {
    "id": "RCfnx4I0epVo"
   },
   "outputs": [],
   "source": [
    "# Libraries\n",
    "import subprocess\n",
    "from subprocess import PIPE\n",
    "import sys\n",
    "import os\n",
    "import glob\n",
    "import tqdm"
   ]
  },
  {
   "cell_type": "code",
   "execution_count": 5,
   "metadata": {},
   "outputs": [
    {
     "name": "stdout",
     "output_type": "stream",
     "text": [
      "Requirement already satisfied: bokeh in /opt/conda/lib/python3.7/site-packages (1.4.0)\n",
      "Requirement already satisfied: six>=1.5.2 in /opt/conda/lib/python3.7/site-packages (from bokeh) (1.15.0)\n",
      "Requirement already satisfied: numpy>=1.7.1 in /opt/conda/lib/python3.7/site-packages (from bokeh) (1.19.0)\n",
      "Requirement already satisfied: tornado>=4.3 in /opt/conda/lib/python3.7/site-packages (from bokeh) (5.1.1)\n",
      "Requirement already satisfied: pillow>=4.0 in /opt/conda/lib/python3.7/site-packages (from bokeh) (7.2.0)\n",
      "Requirement already satisfied: Jinja2>=2.7 in /opt/conda/lib/python3.7/site-packages (from bokeh) (2.11.2)\n",
      "Requirement already satisfied: PyYAML>=3.10 in /opt/conda/lib/python3.7/site-packages (from bokeh) (5.3.1)\n",
      "Requirement already satisfied: packaging>=16.8 in /opt/conda/lib/python3.7/site-packages (from bokeh) (20.4)\n",
      "Requirement already satisfied: python-dateutil>=2.1 in /opt/conda/lib/python3.7/site-packages (from bokeh) (2.8.1)\n",
      "Requirement already satisfied: MarkupSafe>=0.23 in /opt/conda/lib/python3.7/site-packages (from Jinja2>=2.7->bokeh) (1.1.1)\n",
      "Requirement already satisfied: pyparsing>=2.0.2 in /opt/conda/lib/python3.7/site-packages (from packaging>=16.8->bokeh) (2.4.7)\n"
     ]
    }
   ],
   "source": [
    "!pip install bokeh"
   ]
  },
  {
   "cell_type": "code",
   "execution_count": 6,
   "metadata": {
    "colab": {
     "base_uri": "https://localhost:8080/"
    },
    "id": "2Ixz41G3tp-T",
    "outputId": "36033929-51a6-4191-bf82-fdbd64c2ff5e"
   },
   "outputs": [
    {
     "name": "stdout",
     "output_type": "stream",
     "text": [
      "Collecting tqdm==4.46.0\n",
      "  Downloading tqdm-4.46.0-py2.py3-none-any.whl (63 kB)\n",
      "\u001b[K     |████████████████████████████████| 63 kB 1.6 MB/s eta 0:00:011\n",
      "\u001b[?25hCollecting opencv-python==4.2.0.34\n",
      "  Downloading opencv_python-4.2.0.34-cp37-cp37m-manylinux1_x86_64.whl (28.2 MB)\n",
      "\u001b[K     |████████████████████████████████| 28.2 MB 6.7 MB/s eta 0:00:01\n",
      "\u001b[?25hCollecting facenet-pytorch==2.2.9\n",
      "  Downloading facenet_pytorch-2.2.9-py3-none-any.whl (1.9 MB)\n",
      "\u001b[K     |████████████████████████████████| 1.9 MB 29.8 MB/s eta 0:00:01\n",
      "\u001b[?25hCollecting mmcv==0.5.7\n",
      "  Downloading mmcv-0.5.7.tar.gz (125 kB)\n",
      "\u001b[K     |████████████████████████████████| 125 kB 33.3 MB/s eta 0:00:01\n",
      "\u001b[?25hCollecting requests==2.23.0\n",
      "  Downloading requests-2.23.0-py2.py3-none-any.whl (58 kB)\n",
      "\u001b[K     |████████████████████████████████| 58 kB 13.1 MB/s eta 0:00:01\n",
      "\u001b[?25hCollecting requests-oauthlib==1.3.0\n",
      "  Downloading requests_oauthlib-1.3.0-py2.py3-none-any.whl (23 kB)\n",
      "Requirement already satisfied: numpy>=1.14.5 in /opt/conda/lib/python3.7/site-packages (from opencv-python==4.2.0.34->-r ./DeepFaceForgeryDetection/dataset/requirements.txt (line 2)) (1.19.0)\n",
      "Collecting addict\n",
      "  Downloading addict-2.3.0-py3-none-any.whl (3.7 kB)\n",
      "Requirement already satisfied: pyyaml in /opt/conda/lib/python3.7/site-packages (from mmcv==0.5.7->-r ./DeepFaceForgeryDetection/dataset/requirements.txt (line 4)) (5.3.1)\n",
      "Collecting yapf\n",
      "  Downloading yapf-0.30.0-py2.py3-none-any.whl (190 kB)\n",
      "\u001b[K     |████████████████████████████████| 190 kB 39.3 MB/s eta 0:00:01\n",
      "\u001b[?25hRequirement already satisfied: opencv-python-headless>=3 in /opt/conda/lib/python3.7/site-packages (from mmcv==0.5.7->-r ./DeepFaceForgeryDetection/dataset/requirements.txt (line 4)) (4.3.0.36)\n",
      "Requirement already satisfied: urllib3!=1.25.0,!=1.25.1,<1.26,>=1.21.1 in /opt/conda/lib/python3.7/site-packages (from requests==2.23.0->-r ./DeepFaceForgeryDetection/dataset/requirements.txt (line 5)) (1.25.9)\n",
      "Requirement already satisfied: idna<3,>=2.5 in /opt/conda/lib/python3.7/site-packages (from requests==2.23.0->-r ./DeepFaceForgeryDetection/dataset/requirements.txt (line 5)) (2.10)\n",
      "Requirement already satisfied: chardet<4,>=3.0.2 in /opt/conda/lib/python3.7/site-packages (from requests==2.23.0->-r ./DeepFaceForgeryDetection/dataset/requirements.txt (line 5)) (3.0.4)\n",
      "Requirement already satisfied: certifi>=2017.4.17 in /opt/conda/lib/python3.7/site-packages (from requests==2.23.0->-r ./DeepFaceForgeryDetection/dataset/requirements.txt (line 5)) (2020.6.20)\n",
      "Requirement already satisfied: oauthlib>=3.0.0 in /opt/conda/lib/python3.7/site-packages (from requests-oauthlib==1.3.0->-r ./DeepFaceForgeryDetection/dataset/requirements.txt (line 6)) (3.0.1)\n",
      "Building wheels for collected packages: mmcv\n",
      "  Building wheel for mmcv (setup.py) ... \u001b[?25ldone\n",
      "\u001b[?25h  Created wheel for mmcv: filename=mmcv-0.5.7-cp37-cp37m-linux_x86_64.whl size=211912 sha256=c675a6b9c350ab9b13f589564538c1410d78cf4fe4ceebb3cf0a8530822a235b\n",
      "  Stored in directory: /home/jovyan/.cache/pip/wheels/ba/52/d7/3e5df4a798b3c20caf13d1a0c1ab654dd3b835360663767cf6\n",
      "Successfully built mmcv\n",
      "\u001b[31mERROR: panel 0.9.7 has requirement bokeh>=2.1, but you'll have bokeh 1.4.0 which is incompatible.\u001b[0m\n",
      "\u001b[31mERROR: geoviews 1.8.1 has requirement bokeh>=2.0.0, but you'll have bokeh 1.4.0 which is incompatible.\u001b[0m\n",
      "Installing collected packages: tqdm, opencv-python, requests, facenet-pytorch, addict, yapf, mmcv, requests-oauthlib\n",
      "  Attempting uninstall: tqdm\n",
      "    Found existing installation: tqdm 4.48.0\n",
      "    Uninstalling tqdm-4.48.0:\n",
      "      Successfully uninstalled tqdm-4.48.0\n",
      "  Attempting uninstall: opencv-python\n",
      "    Found existing installation: opencv-python 4.3.0.36\n",
      "    Uninstalling opencv-python-4.3.0.36:\n",
      "      Successfully uninstalled opencv-python-4.3.0.36\n",
      "  Attempting uninstall: requests\n",
      "    Found existing installation: requests 2.24.0\n",
      "    Uninstalling requests-2.24.0:\n",
      "      Successfully uninstalled requests-2.24.0\n",
      "Successfully installed addict-2.3.0 facenet-pytorch-2.2.9 mmcv-0.5.7 opencv-python-4.2.0.34 requests-2.23.0 requests-oauthlib-1.3.0 tqdm-4.46.0 yapf-0.30.0\n"
     ]
    }
   ],
   "source": [
    "# Thanks to the author of the reference repo, I install packages that is used for frame extraction at once from requirements.txt\n",
    "!pip install -r ./DeepFaceForgeryDetection/dataset/requirements.txt"
   ]
  },
  {
   "cell_type": "code",
   "execution_count": 7,
   "metadata": {
    "colab": {
     "base_uri": "https://localhost:8080/"
    },
    "id": "XuZrG87ltsZv",
    "outputId": "6360e4ec-a50f-4ab5-d6dd-b9145595ee11"
   },
   "outputs": [
    {
     "name": "stdout",
     "output_type": "stream",
     "text": [
      "python3 ./DeepFaceForgeryDetection/dataset/frame_extraction.py ./DeepFaceForgeryDetection/dataset/videos/original_c40/original_sequences/youtube/c40/videos ./intermediate_data/original_c40 --num_videos 999999\n",
      "python3 ./DeepFaceForgeryDetection/dataset/frame_extraction.py ./DeepFaceForgeryDetection/dataset/videos/original_c23/original_sequences/youtube/c23/videos ./intermediate_data/original_c23 --num_videos 999999\n",
      "python3 ./DeepFaceForgeryDetection/dataset/frame_extraction.py ./DeepFaceForgeryDetection/dataset/videos/neural_textures_c40/manipulated_sequences/NeuralTextures/c40/videos ./intermediate_data/neural_textures_c40 --num_videos 999999\n",
      "python3 ./DeepFaceForgeryDetection/dataset/frame_extraction.py ./DeepFaceForgeryDetection/dataset/videos/neural_textures_c23/manipulated_sequences/NeuralTextures/c23/videos ./intermediate_data/neural_textures_c23 --num_videos 999999\n",
      "python3 ./DeepFaceForgeryDetection/dataset/frame_extraction.py ./DeepFaceForgeryDetection/dataset/videos/deepfakes_c40/manipulated_sequences/Deepfakes/c40/videos ./intermediate_data/deepfakes_c40 --num_videos 999999\n",
      "python3 ./DeepFaceForgeryDetection/dataset/frame_extraction.py ./DeepFaceForgeryDetection/dataset/videos/deepfakes_c23/manipulated_sequences/Deepfakes/c23/videos ./intermediate_data/deepfakes_c23 --num_videos 999999\n",
      "python3 ./DeepFaceForgeryDetection/dataset/frame_extraction.py ./DeepFaceForgeryDetection/dataset/videos/face2face_c40/manipulated_sequences/Face2Face/c40/videos ./intermediate_data/face2face_c40 --num_videos 999999\n",
      "python3 ./DeepFaceForgeryDetection/dataset/frame_extraction.py ./DeepFaceForgeryDetection/dataset/videos/face2face_c23/manipulated_sequences/Face2Face/c23/videos ./intermediate_data/face2face_c23 --num_videos 999999\n",
      "python3 ./DeepFaceForgeryDetection/dataset/frame_extraction.py ./DeepFaceForgeryDetection/dataset/videos/faceswap_c40/manipulated_sequences/FaceSwap/c40/videos ./intermediate_data/faceswap_c40 --num_videos 999999\n",
      "python3 ./DeepFaceForgeryDetection/dataset/frame_extraction.py ./DeepFaceForgeryDetection/dataset/videos/faceswap_c23/manipulated_sequences/FaceSwap/c23/videos ./intermediate_data/faceswap_c23 --num_videos 999999\n"
     ]
    }
   ],
   "source": [
    "# Convert videoes to frames.\n",
    "# It might too much time...\n",
    "for video_full_path in glob.glob(\"./DeepFaceForgeryDetection/dataset/videos/*/*/*/*/*\"):\n",
    "  mani_enc = video_full_path.split(\"/\")[4]\n",
    "  #print(f\"converting {mani_enc}\")\n",
    "\n",
    "  path_script = f\"./DeepFaceForgeryDetection/dataset/frame_extraction.py\"\n",
    "  path_videoes = video_full_path\n",
    "  path_frames = f\"./intermediate_data/{mani_enc}\"\n",
    "  option = \"--num_videos\" \n",
    "  option_val = \"999999\"\n",
    "\n",
    "  # Run frame extraction command \n",
    "  cnvrt_cmd_args = [\"python3\", path_script, path_videoes, path_frames, option, option_val]\n",
    "  res = subprocess.run(cnvrt_cmd_args, stdout=subprocess.PIPE, stderr=subprocess.PIPE)\n",
    "  print(\" \".join(cnvrt_cmd_args))\n",
    "  if res.returncode == 0:\n",
    "    print(res.stdout)\n",
    "  else:\n",
    "    print(res.stderr)"
   ]
  }
 ],
 "metadata": {
  "accelerator": "GPU",
  "colab": {
   "name": "convert_videoes_2_frames.ipynb",
   "provenance": []
  },
  "kernelspec": {
   "display_name": "Python 3",
   "language": "python",
   "name": "python3"
  },
  "language_info": {
   "codemirror_mode": {
    "name": "ipython",
    "version": 3
   },
   "file_extension": ".py",
   "mimetype": "text/x-python",
   "name": "python",
   "nbconvert_exporter": "python",
   "pygments_lexer": "ipython3",
   "version": "3.7.6"
  }
 },
 "nbformat": 4,
 "nbformat_minor": 4
}
