{
 "cells": [
  {
   "cell_type": "markdown",
   "metadata": {},
   "source": [
    "# Detecting Deepfakes\n",
    "\n",
    "Members: Jaryl Ngan, Sangseok Lee, and Shota Takeshima\n",
    "\n",
    "We reproduce one of deepfake detection algorithms and evaluate its performance.\n",
    "https://github.com/Megatvini/DeepFaceForgeryDetection"
   ]
  },
  {
   "cell_type": "code",
   "execution_count": 1,
   "metadata": {},
   "outputs": [
    {
     "name": "stderr",
     "output_type": "stream",
     "text": [
      "/opt/conda/lib/python3.7/site-packages/tensorboard/compat/tensorflow_stub/dtypes.py:541: FutureWarning: Passing (type, 1) or '1type' as a synonym of type is deprecated; in a future version of numpy, it will be understood as (type, (1,)) / '(1,)type'.\n",
      "  _np_qint8 = np.dtype([(\"qint8\", np.int8, 1)])\n",
      "/opt/conda/lib/python3.7/site-packages/tensorboard/compat/tensorflow_stub/dtypes.py:542: FutureWarning: Passing (type, 1) or '1type' as a synonym of type is deprecated; in a future version of numpy, it will be understood as (type, (1,)) / '(1,)type'.\n",
      "  _np_quint8 = np.dtype([(\"quint8\", np.uint8, 1)])\n",
      "/opt/conda/lib/python3.7/site-packages/tensorboard/compat/tensorflow_stub/dtypes.py:543: FutureWarning: Passing (type, 1) or '1type' as a synonym of type is deprecated; in a future version of numpy, it will be understood as (type, (1,)) / '(1,)type'.\n",
      "  _np_qint16 = np.dtype([(\"qint16\", np.int16, 1)])\n",
      "/opt/conda/lib/python3.7/site-packages/tensorboard/compat/tensorflow_stub/dtypes.py:544: FutureWarning: Passing (type, 1) or '1type' as a synonym of type is deprecated; in a future version of numpy, it will be understood as (type, (1,)) / '(1,)type'.\n",
      "  _np_quint16 = np.dtype([(\"quint16\", np.uint16, 1)])\n",
      "/opt/conda/lib/python3.7/site-packages/tensorboard/compat/tensorflow_stub/dtypes.py:545: FutureWarning: Passing (type, 1) or '1type' as a synonym of type is deprecated; in a future version of numpy, it will be understood as (type, (1,)) / '(1,)type'.\n",
      "  _np_qint32 = np.dtype([(\"qint32\", np.int32, 1)])\n",
      "/opt/conda/lib/python3.7/site-packages/tensorboard/compat/tensorflow_stub/dtypes.py:550: FutureWarning: Passing (type, 1) or '1type' as a synonym of type is deprecated; in a future version of numpy, it will be understood as (type, (1,)) / '(1,)type'.\n",
      "  np_resource = np.dtype([(\"resource\", np.ubyte, 1)])\n"
     ]
    }
   ],
   "source": [
    "import argparse\n",
    "import os\n",
    "\n",
    "import numpy as np\n",
    "import torch\n",
    "import torch.nn as nn\n",
    "from facenet_pytorch import fixed_image_standardization\n",
    "from torch.utils.tensorboard import SummaryWriter\n",
    "from torchvision import transforms\n",
    "from tqdm import tqdm\n",
    "\n",
    "import sys\n",
    "sys.path.append(\"./DeepFaceForgeryDetection/src\")\n",
    "\n",
    "from data_loader import get_loader, read_dataset, CompositeDataset\n",
    "from model import FaceRecognitionCNN\n",
    "from utils import write_json, copy_file, count_parameters\n",
    "pass"
   ]
  },
  {
   "cell_type": "markdown",
   "metadata": {},
   "source": [
    "## Data loading\n",
    "\n",
    "The datasets are original_c40 (true dataset), deepfakes_c40, and neural_texture_c40.\n",
    "In this project, we evaluate the detection accuracy of both deepfakes_c40 and neural_texture_c40 as fake datasets, so fakedataset_name takes \"deepfakes\" or \"neural_texture\".\n",
    "And, this function creates training, validating, and test datasets from original_c40 and one of fake datasets."
   ]
  },
  {
   "cell_type": "code",
   "execution_count": 2,
   "metadata": {},
   "outputs": [],
   "source": [
    "def read_training_dataset(data_dir, max_images_per_video, max_videos, window_size, splits_path,transform, fakedataset_name):\n",
    "    datasets = read_dataset(\n",
    "        data_dir, transform=transform,\n",
    "        max_images_per_video=max_images_per_video, max_videos=max_videos,\n",
    "        window_size=window_size, splits_path=splits_path\n",
    "    )\n",
    "    # only neural textures c40 and original c40\n",
    "    datasets = {\n",
    "        k: v for k, v in datasets.items() \n",
    "        if ('original' in k or fakedataset_name in k) and 'c40' in k\n",
    "    }\n",
    "    print('Using training data: ')\n",
    "    print('\\n'.join(sorted(datasets.keys())))\n",
    "\n",
    "    trains, vals, tests = [], [], []\n",
    "    for data_dir_name, dataset in datasets.items():\n",
    "        train, val, test = dataset\n",
    "        # repeat original data multiple times to balance out training data\n",
    "        compression = data_dir_name.split('_')[-1]\n",
    "        num_tampered_with_same_compression = len({x for x in datasets.keys() if compression in x}) - 1\n",
    "        count = 1 if 'original' not in data_dir_name else num_tampered_with_same_compression\n",
    "        for _ in range(count):\n",
    "            trains.append(train)\n",
    "        vals.append(val)\n",
    "        tests.append(test)\n",
    "    return CompositeDataset(*trains), CompositeDataset(*vals), CompositeDataset(*tests)"
   ]
  },
  {
   "cell_type": "markdown",
   "metadata": {},
   "source": [
    "Training, validation, and test dataset splitting is performed based on splits files (json files) in FaceForensics++. https://github.com/ondyari/FaceForensics/tree/master/dataset/splits\n",
    "> Our used dataset file splits can be found in the respective folder. We used 720 videos for train and 140 videos for validation as well as testing."
   ]
  },
  {
   "cell_type": "code",
   "execution_count": 3,
   "metadata": {},
   "outputs": [],
   "source": [
    "data_dir = \"./intermediate_data\"\n",
    "max_images_per_video = 10\n",
    "max_videos = 1000\n",
    "window_size = 1\n",
    "splits_path = './DeepFaceForgeryDetection/dataset/splits/'"
   ]
  },
  {
   "cell_type": "code",
   "execution_count": 4,
   "metadata": {},
   "outputs": [
    {
     "name": "stdout",
     "output_type": "stream",
     "text": [
      "Using training data: \n",
      "deepfakes_faces_c40\n",
      "original_faces_c40\n"
     ]
    }
   ],
   "source": [
    "# Image preprocessing, normalization for the pretrained resnet\n",
    "transform = transforms.Compose([\n",
    "    transforms.Resize((160, 160)),\n",
    "    np.float32,\n",
    "    transforms.ToTensor(),\n",
    "    fixed_image_standardization\n",
    "])\n",
    "\n",
    "fakedataset_name = \"deepfakes\"\n",
    "train_dataset, val_dataset, test_dataset = read_training_dataset(data_dir, max_images_per_video, max_videos, window_size, splits_path, transform, fakedataset_name)"
   ]
  },
  {
   "cell_type": "markdown",
   "metadata": {},
   "source": [
    "So, the size of each datasets are 2 dataset * 720 videoes * 10 frames for each, 2 dataset * 720 videoes * 10 frames for each, and 2 dataset * 720 videoes * 10 frames for each respectively."
   ]
  },
  {
   "cell_type": "code",
   "execution_count": 5,
   "metadata": {},
   "outputs": [
    {
     "name": "stdout",
     "output_type": "stream",
     "text": [
      "#train data 14400, #test data 2800, #val data 2800\n"
     ]
    }
   ],
   "source": [
    "print(f\"#train data {len(train_dataset)}, #test data {len(test_dataset)}, #val data {len(val_dataset)}\")"
   ]
  },
  {
   "cell_type": "code",
   "execution_count": 6,
   "metadata": {},
   "outputs": [],
   "source": [
    "# parameters for data loaders\n",
    "batch_size = 25\n",
    "num_workers = 2\n",
    "\n",
    "# Build data loader\n",
    "train_loader = get_loader(\n",
    "    train_dataset, batch_size, shuffle=True, num_workers=num_workers\n",
    ")\n",
    "val_loader = get_loader(\n",
    "    val_dataset, batch_size, shuffle=False, num_workers=num_workers\n",
    ")"
   ]
  },
  {
   "cell_type": "markdown",
   "metadata": {},
   "source": [
    "## Training and validating setup"
   ]
  },
  {
   "cell_type": "code",
   "execution_count": 13,
   "metadata": {},
   "outputs": [
    {
     "name": "stdout",
     "output_type": "stream",
     "text": [
      "training and validating on cuda\n"
     ]
    }
   ],
   "source": [
    "# Device configuration\n",
    "device = torch.device('cuda' if torch.cuda.is_available() else 'cpu')\n",
    "print(f\"training and validating on {device}\")"
   ]
  },
  {
   "cell_type": "markdown",
   "metadata": {},
   "source": [
    "### Modeling"
   ]
  },
  {
   "cell_type": "markdown",
   "metadata": {},
   "source": [
    "This model mostly borrow the power of inception_resnet_v1 in facenet_pytorch package. https://github.com/timesler/facenet-pytorch"
   ]
  },
  {
   "cell_type": "code",
   "execution_count": 8,
   "metadata": {},
   "outputs": [],
   "source": [
    "from facenet_pytorch import InceptionResnetV1\n",
    "class FaceRecognitionCNN(nn.Module):\n",
    "    def __init__(self):\n",
    "        super(FaceRecognitionCNN, self).__init__()\n",
    "        self.resnet = InceptionResnetV1(pretrained='vggface2')\n",
    "        self.relu = nn.ReLU()\n",
    "        self.dropout = nn.Dropout(0.5)\n",
    "        self.fc = nn.Linear(512, 1)\n",
    "\n",
    "    def forward(self, images):\n",
    "        out = self.resnet(images)\n",
    "        out = self.relu(out)\n",
    "        out = self.dropout(out)\n",
    "        out = self.fc(out)\n",
    "        return out.squeeze()"
   ]
  },
  {
   "cell_type": "code",
   "execution_count": 9,
   "metadata": {},
   "outputs": [],
   "source": [
    "# Build the models\n",
    "model = FaceRecognitionCNN().to(device)"
   ]
  },
  {
   "cell_type": "markdown",
   "metadata": {},
   "source": [
    "Printing the input shape and model parameters that will be trained."
   ]
  },
  {
   "cell_type": "code",
   "execution_count": 10,
   "metadata": {},
   "outputs": [
    {
     "name": "stdout",
     "output_type": "stream",
     "text": [
      "input shape torch.Size([25, 3, 160, 160])\n",
      "model params (trainable, total): (27910840, 27910840)\n"
     ]
    }
   ],
   "source": [
    "input_shape = next(iter(train_loader))[2].shape\n",
    "print('input shape', input_shape)\n",
    "# need to call this before summary!!!\n",
    "model.eval()\n",
    "# summary(model, input_shape[1:], batch_size=input_shape[0], device=device)\n",
    "print('model params (trainable, total):', count_parameters(model))"
   ]
  },
  {
   "cell_type": "markdown",
   "metadata": {},
   "source": [
    "### Loss function"
   ]
  },
  {
   "cell_type": "code",
   "execution_count": 11,
   "metadata": {},
   "outputs": [],
   "source": [
    "# Loss and optimizer\n",
    "criterion = nn.BCEWithLogitsLoss()"
   ]
  },
  {
   "cell_type": "markdown",
   "metadata": {},
   "source": [
    "### Optimizer"
   ]
  },
  {
   "cell_type": "code",
   "execution_count": 12,
   "metadata": {},
   "outputs": [],
   "source": [
    "learning_rate = 0.00001\n",
    "regularization = 0.001\n",
    "\n",
    "optimizer = torch.optim.Adam(\n",
    "    model.parameters(), lr=learning_rate, weight_decay=regularization\n",
    ")"
   ]
  },
  {
   "cell_type": "markdown",
   "metadata": {},
   "source": [
    "### Scheduler"
   ]
  },
  {
   "cell_type": "code",
   "execution_count": 13,
   "metadata": {},
   "outputs": [],
   "source": [
    "patience = 2\n",
    "\n",
    "# decrease learning rate if validation accuracy has not increased\n",
    "lr_scheduler = torch.optim.lr_scheduler.ReduceLROnPlateau(\n",
    "    optimizer, mode='max', factor=1/4, patience=patience, verbose=True,\n",
    ")"
   ]
  },
  {
   "cell_type": "markdown",
   "metadata": {},
   "source": [
    "### Checkpoint"
   ]
  },
  {
   "cell_type": "code",
   "execution_count": 14,
   "metadata": {},
   "outputs": [],
   "source": [
    "def save_model_checkpoint(epoch, model, val_acc):\n",
    "    PATH = f'./best_model_deepfakes.pth'\n",
    "    torch.save(model, PATH)"
   ]
  },
  {
   "cell_type": "markdown",
   "metadata": {},
   "source": [
    "### Printing function for training process"
   ]
  },
  {
   "cell_type": "code",
   "execution_count": 15,
   "metadata": {},
   "outputs": [],
   "source": [
    "def print_training_info(batch_accuracy, loss, step):\n",
    "    log_info = 'Training - Loss: {:.4f}, Accuracy: {:.4f}'.format(loss.item(), batch_accuracy)\n",
    "    tqdm.write(log_info)"
   ]
  },
  {
   "cell_type": "markdown",
   "metadata": {},
   "source": [
    "### Validatation and printing function for it"
   ]
  },
  {
   "cell_type": "markdown",
   "metadata": {},
   "source": [
    "Positive means the frame is from deepfake videos.\n",
    "\n",
    "$val\\_accuracy = \\frac{TP + TN}{\\# of all samples}$\n",
    "\n",
    "$pristine\\_accuracy = \\frac{TN}{TN + FN}$\n",
    "\n",
    "$tampered\\_accuracy = \\frac{TP}{TP + FN}$"
   ]
  },
  {
   "cell_type": "code",
   "execution_count": 9,
   "metadata": {},
   "outputs": [],
   "source": [
    "def print_validation_info(criterion, device, model, val_loader, epoch, step):\n",
    "    model.eval()\n",
    "    with torch.no_grad():\n",
    "        loss_values = []\n",
    "        all_predictions = []\n",
    "        all_targets = []\n",
    "        for video_ids, frame_ids, images, targets in tqdm(val_loader, desc=f'validation ep. {epoch}'):\n",
    "            images = images.to(device)\n",
    "            targets = targets.to(device)\n",
    "\n",
    "            outputs = model(images)\n",
    "            loss = criterion(outputs, targets)\n",
    "            loss_values.append(loss.item())\n",
    "\n",
    "            predictions = outputs > 0.0\n",
    "            all_predictions.append(predictions)\n",
    "            all_targets.append(targets)\n",
    "\n",
    "        val_loss = sum(loss_values) / len(loss_values)\n",
    "\n",
    "        all_predictions = torch.cat(all_predictions).int()\n",
    "        all_targets = torch.cat(all_targets).int()\n",
    "        val_accuracy = (all_predictions == all_targets).sum().float().item() / all_targets.shape[0]\n",
    "\n",
    "        total_target_tampered = all_targets.sum().float().item()\n",
    "        tampered_accuracy = (all_predictions * all_targets).sum().item() / total_target_tampered\n",
    "\n",
    "        total_target_pristine = (1 - all_targets).sum().float().item()\n",
    "        pristine_accuracy = (1 - (all_predictions | all_targets)).sum().item() / total_target_pristine\n",
    "\n",
    "        tqdm.write(\n",
    "            'Validation - Loss: {:.3f}, Acc: {:.3f}, Prs: {:.3f}, Tmp: {:.3f}'.format(\n",
    "                val_loss, val_accuracy, pristine_accuracy, tampered_accuracy\n",
    "            )\n",
    "        )\n",
    "\n",
    "    return val_loss, val_accuracy, pristine_accuracy, tampered_accuracy"
   ]
  },
  {
   "cell_type": "markdown",
   "metadata": {},
   "source": [
    "## Training and validation"
   ]
  },
  {
   "cell_type": "code",
   "execution_count": 17,
   "metadata": {},
   "outputs": [
    {
     "name": "stderr",
     "output_type": "stream",
     "text": [
      "training epoch 0: 100%|██████████| 576/576 [02:23<00:00,  4.03it/s]\n",
      "validation ep. 0: 100%|██████████| 112/112 [00:09<00:00, 11.40it/s]\n",
      "/opt/conda/lib/python3.7/site-packages/torch/serialization.py:402: UserWarning: Couldn't retrieve source code for container of type FaceRecognitionCNN. It won't be checked for correctness upon loading.\n",
      "  \"type \" + obj.__name__ + \". It won't be checked \"\n"
     ]
    },
    {
     "name": "stdout",
     "output_type": "stream",
     "text": [
      "Validation - Loss: 0.603, Acc: 0.873, Prs: 0.925, Tmp: 0.821\n",
      "train_loss:0.6331 train_acc:0.8427, val_loss:0.6026 val_acc0.8732\n"
     ]
    },
    {
     "name": "stderr",
     "output_type": "stream",
     "text": [
      "training epoch 1: 100%|██████████| 576/576 [02:24<00:00,  3.97it/s]\n",
      "validation ep. 1: 100%|██████████| 112/112 [00:10<00:00, 10.90it/s]\n"
     ]
    },
    {
     "name": "stdout",
     "output_type": "stream",
     "text": [
      "Validation - Loss: 0.563, Acc: 0.882, Prs: 0.921, Tmp: 0.844\n",
      "train_loss:0.5564 train_acc:0.9747, val_loss:0.5635 val_acc0.8825\n"
     ]
    },
    {
     "name": "stderr",
     "output_type": "stream",
     "text": [
      "training epoch 2: 100%|██████████| 576/576 [02:24<00:00,  3.98it/s]\n",
      "validation ep. 2: 100%|██████████| 112/112 [00:10<00:00, 10.63it/s]"
     ]
    },
    {
     "name": "stdout",
     "output_type": "stream",
     "text": [
      "Validation - Loss: 0.522, Acc: 0.873, Prs: 0.882, Tmp: 0.864\n",
      "train_loss:0.4982 train_acc:0.9788, val_loss:0.5217 val_acc0.8729\n"
     ]
    },
    {
     "name": "stderr",
     "output_type": "stream",
     "text": [
      "\n",
      "training epoch 3: 100%|██████████| 576/576 [02:27<00:00,  3.91it/s]\n",
      "validation ep. 3: 100%|██████████| 112/112 [00:09<00:00, 11.45it/s]\n"
     ]
    },
    {
     "name": "stdout",
     "output_type": "stream",
     "text": [
      "Validation - Loss: 0.496, Acc: 0.884, Prs: 0.931, Tmp: 0.836\n",
      "train_loss:0.4616 train_acc:0.9695, val_loss:0.4957 val_acc0.8836\n"
     ]
    },
    {
     "name": "stderr",
     "output_type": "stream",
     "text": [
      "training epoch 4: 100%|██████████| 576/576 [02:24<00:00,  4.00it/s]\n",
      "validation ep. 4: 100%|██████████| 112/112 [00:09<00:00, 11.49it/s]\n"
     ]
    },
    {
     "name": "stdout",
     "output_type": "stream",
     "text": [
      "Validation - Loss: 0.471, Acc: 0.894, Prs: 0.947, Tmp: 0.841\n",
      "train_loss:0.4261 train_acc:0.9818, val_loss:0.4712 val_acc0.8943\n"
     ]
    },
    {
     "name": "stderr",
     "output_type": "stream",
     "text": [
      "training epoch 5: 100%|██████████| 576/576 [02:23<00:00,  4.00it/s]\n",
      "validation ep. 5: 100%|██████████| 112/112 [00:09<00:00, 12.06it/s]"
     ]
    },
    {
     "name": "stdout",
     "output_type": "stream",
     "text": [
      "Validation - Loss: 0.470, Acc: 0.870, Prs: 0.917, Tmp: 0.824\n",
      "train_loss:0.3981 train_acc:0.9857, val_loss:0.4704 val_acc0.8704\n"
     ]
    },
    {
     "name": "stderr",
     "output_type": "stream",
     "text": [
      "\n",
      "training epoch 6: 100%|██████████| 576/576 [02:19<00:00,  4.14it/s]\n",
      "validation ep. 6: 100%|██████████| 112/112 [00:09<00:00, 12.05it/s]\n"
     ]
    },
    {
     "name": "stdout",
     "output_type": "stream",
     "text": [
      "Validation - Loss: 0.443, Acc: 0.895, Prs: 0.926, Tmp: 0.864\n",
      "train_loss:0.3784 train_acc:0.9846, val_loss:0.4430 val_acc0.8950\n"
     ]
    },
    {
     "name": "stderr",
     "output_type": "stream",
     "text": [
      "training epoch 7: 100%|██████████| 576/576 [02:19<00:00,  4.13it/s]\n",
      "validation ep. 7: 100%|██████████| 112/112 [00:09<00:00, 11.78it/s]\n"
     ]
    },
    {
     "name": "stdout",
     "output_type": "stream",
     "text": [
      "Validation - Loss: 0.411, Acc: 0.900, Prs: 0.923, Tmp: 0.878\n",
      "train_loss:0.3533 train_acc:0.9889, val_loss:0.4108 val_acc0.9004\n"
     ]
    },
    {
     "name": "stderr",
     "output_type": "stream",
     "text": [
      "training epoch 8: 100%|██████████| 576/576 [02:19<00:00,  4.14it/s]\n",
      "validation ep. 8: 100%|██████████| 112/112 [00:09<00:00, 11.80it/s]"
     ]
    },
    {
     "name": "stdout",
     "output_type": "stream",
     "text": [
      "Validation - Loss: 0.412, Acc: 0.889, Prs: 0.939, Tmp: 0.839\n",
      "train_loss:0.3271 train_acc:0.9947, val_loss:0.4123 val_acc0.8893\n"
     ]
    },
    {
     "name": "stderr",
     "output_type": "stream",
     "text": [
      "\n",
      "training epoch 9: 100%|██████████| 576/576 [02:24<00:00,  3.99it/s]\n",
      "validation ep. 9: 100%|██████████| 112/112 [00:09<00:00, 11.70it/s]"
     ]
    },
    {
     "name": "stdout",
     "output_type": "stream",
     "text": [
      "Validation - Loss: 0.402, Acc: 0.888, Prs: 0.925, Tmp: 0.851\n",
      "train_loss:0.3108 train_acc:0.9910, val_loss:0.4022 val_acc0.8879\n"
     ]
    },
    {
     "name": "stderr",
     "output_type": "stream",
     "text": [
      "\n",
      "training epoch 10: 100%|██████████| 576/576 [02:27<00:00,  3.90it/s]\n",
      "validation ep. 10: 100%|██████████| 112/112 [00:09<00:00, 11.31it/s]\n"
     ]
    },
    {
     "name": "stdout",
     "output_type": "stream",
     "text": [
      "Validation - Loss: 0.374, Acc: 0.902, Prs: 0.949, Tmp: 0.856\n",
      "train_loss:0.2893 train_acc:0.9948, val_loss:0.3743 val_acc0.9025\n"
     ]
    },
    {
     "name": "stderr",
     "output_type": "stream",
     "text": [
      "training epoch 11: 100%|██████████| 576/576 [02:25<00:00,  3.96it/s]\n",
      "validation ep. 11: 100%|██████████| 112/112 [00:09<00:00, 11.45it/s]"
     ]
    },
    {
     "name": "stdout",
     "output_type": "stream",
     "text": [
      "Validation - Loss: 0.387, Acc: 0.884, Prs: 0.959, Tmp: 0.809\n",
      "train_loss:0.2691 train_acc:0.9965, val_loss:0.3871 val_acc0.8839\n"
     ]
    },
    {
     "name": "stderr",
     "output_type": "stream",
     "text": [
      "\n",
      "training epoch 12: 100%|██████████| 576/576 [02:23<00:00,  4.00it/s]\n",
      "validation ep. 12: 100%|██████████| 112/112 [00:09<00:00, 11.24it/s]\n"
     ]
    },
    {
     "name": "stdout",
     "output_type": "stream",
     "text": [
      "Validation - Loss: 0.375, Acc: 0.886, Prs: 0.929, Tmp: 0.844\n",
      "train_loss:0.2547 train_acc:0.9955, val_loss:0.3749 val_acc0.8864\n"
     ]
    },
    {
     "name": "stderr",
     "output_type": "stream",
     "text": [
      "training epoch 13: 100%|██████████| 576/576 [02:23<00:00,  4.01it/s]\n",
      "validation ep. 13: 100%|██████████| 112/112 [00:09<00:00, 11.43it/s]"
     ]
    },
    {
     "name": "stdout",
     "output_type": "stream",
     "text": [
      "Validation - Loss: 0.352, Acc: 0.901, Prs: 0.948, Tmp: 0.854\n",
      "train_loss:0.2396 train_acc:0.9949, val_loss:0.3523 val_acc0.9011\n",
      "Epoch    14: reducing learning rate of group 0 to 2.5000e-06.\n"
     ]
    },
    {
     "name": "stderr",
     "output_type": "stream",
     "text": [
      "\n",
      "training epoch 14: 100%|██████████| 576/576 [02:26<00:00,  3.92it/s]\n",
      "validation ep. 14: 100%|██████████| 112/112 [00:09<00:00, 11.29it/s]\n"
     ]
    },
    {
     "name": "stdout",
     "output_type": "stream",
     "text": [
      "Validation - Loss: 0.331, Acc: 0.915, Prs: 0.935, Tmp: 0.896\n",
      "train_loss:0.2277 train_acc:0.9968, val_loss:0.3307 val_acc0.9154\n"
     ]
    }
   ],
   "source": [
    " # Train the models\n",
    "train_losses, train_accs, val_losses, val_accs = [], [], [], []\n",
    "total_step = len(train_loader)\n",
    "step = 1\n",
    "best_val_acc = 0.5\n",
    "\n",
    "num_epochs = 15\n",
    "\n",
    "# loop for epoch\n",
    "for epoch in range(num_epochs):\n",
    "    # loop for batch\n",
    "    running_loss, running_acc = 0, 0\n",
    "    for i, (video_ids, frame_ids, images, targets) in \\\n",
    "            tqdm(enumerate(train_loader), desc=f'training epoch {epoch}', total=len(train_loader)):\n",
    "        model.train()\n",
    "        # Set mini-batch dataset\n",
    "        images = images.to(device)\n",
    "        targets = targets.to(device)\n",
    "\n",
    "        # Forward, backward and optimize\n",
    "        outputs = model(images)\n",
    "        loss = criterion(outputs, targets)\n",
    "        model.zero_grad()\n",
    "        loss.backward()\n",
    "        optimizer.step()\n",
    "\n",
    "        batch_accuracy = float((outputs > 0.0).eq(targets).sum()) / len(targets)\n",
    "\n",
    "        # Print log info\n",
    "        step += 1\n",
    "\n",
    "        running_loss += loss.item()\n",
    "        running_acc += float((outputs > 0.0).eq(targets).sum())\n",
    "\n",
    "    # Actually, the loss and accuracy are on last batch in the epoch.\n",
    "    train_loss = running_loss / len(train_loader)\n",
    "    train_acc = running_acc / len(train_dataset)\n",
    "    train_losses.append(train_loss)\n",
    "    train_accs.append(train_acc)\n",
    "    \n",
    "    # validation step after full epoch\n",
    "    val_loss, val_acc, pr_acc, tmp_acc = print_validation_info(\n",
    "        criterion, device, model, val_loader, epoch, step\n",
    "    )\n",
    "    val_losses.append(val_loss)\n",
    "    val_accs.append(val_acc)\n",
    "    \n",
    "    print(f\"train_loss:{train_loss:.4f} train_acc:{train_acc:.4f}, val_loss:{val_loss:.4f} val_acc{val_acc:.4f}\")\n",
    "    \n",
    "    lr_scheduler.step(val_acc)\n",
    "    if val_acc > best_val_acc:\n",
    "        save_model_checkpoint(epoch, model, (val_acc, pr_acc, tmp_acc))\n",
    "        best_val_acc = val_acc"
   ]
  },
  {
   "cell_type": "code",
   "execution_count": 19,
   "metadata": {},
   "outputs": [
    {
     "data": {
      "image/png": "[encoded data removed]",
      "text/plain": [
       "<Figure size 864x360 with 2 Axes>"
      ]
     },
     "metadata": {
      "needs_background": "light"
     },
     "output_type": "display_data"
    }
   ],
   "source": [
    "import matplotlib.pyplot as plt\n",
    "fig, axs = plt.subplots(1, 2, figsize = (12, 5))\n",
    "axs[0].plot(list(range(1, num_epochs + 1)), train_losses, alpha = 0.5, label = \"training\")\n",
    "axs[0].plot(list(range(1, num_epochs + 1)), val_losses, alpha = 0.5,label = \"validation\")\n",
    "axs[1].plot(list(range(1, num_epochs + 1)), train_accs, alpha = 0.5,label = \"training\")\n",
    "axs[1].plot(list(range(1, num_epochs + 1)), val_accs, alpha = 0.5,label = \"validation\")\n",
    "axs[0].legend()\n",
    "axs[1].legend()\n",
    "axs[0].set_xlabel(\"Epoch\")\n",
    "axs[1].set_xlabel(\"Epoch\")\n",
    "axs[0].set_ylabel(\"Cross-entropy loss\")\n",
    "axs[1].set_ylabel(\"Accuracy\")\n",
    "pass"
   ]
  },
  {
   "cell_type": "markdown",
   "metadata": {},
   "source": [
    "## Evaluation"
   ]
  },
  {
   "cell_type": "code",
   "execution_count": 7,
   "metadata": {},
   "outputs": [],
   "source": [
    "test_loader = get_loader(\n",
    "    test_dataset, batch_size, shuffle=False, num_workers=num_workers\n",
    ")"
   ]
  },
  {
   "cell_type": "code",
   "execution_count": 8,
   "metadata": {},
   "outputs": [],
   "source": [
    "model = torch.load('./best_model_deepfakes.pth')"
   ]
  },
  {
   "cell_type": "code",
   "execution_count": 14,
   "metadata": {},
   "outputs": [
    {
     "name": "stderr",
     "output_type": "stream",
     "text": [
      "validation ep. 0: 100%|██████████| 112/112 [00:14<00:00,  7.79it/s]\n"
     ]
    },
    {
     "name": "stdout",
     "output_type": "stream",
     "text": [
      "Validation - Loss: 0.356, Acc: 0.896, Prs: 0.896, Tmp: 0.896\n"
     ]
    }
   ],
   "source": [
    "test_loss, test_acc, test_pr_acc, test_tmp_acc = print_validation_info(\n",
    "        criterion, device, model, test_loader, 0, 0\n",
    "    )"
   ]
  },
  {
   "cell_type": "markdown",
   "metadata": {},
   "source": [
    "Finally, the accuracy on the test dataset is $0.896$ and the precision of detecting deepfakes is also $0.896$."
   ]
  },
  {
   "cell_type": "markdown",
   "metadata": {},
   "source": [
    "## Evaluation the trained model on another dataset"
   ]
  },
  {
   "cell_type": "code",
   "execution_count": 15,
   "metadata": {},
   "outputs": [
    {
     "name": "stdout",
     "output_type": "stream",
     "text": [
      "Using training data: \n",
      "neural_textures_c40\n",
      "original_faces_c40\n"
     ]
    }
   ],
   "source": [
    "fakedataset_name = \"neural_texture\"\n",
    "train_dataset, val_dataset, test_dataset = read_training_dataset(data_dir, max_images_per_video, max_videos, window_size, splits_path, transform, fakedataset_name)"
   ]
  },
  {
   "cell_type": "code",
   "execution_count": 16,
   "metadata": {},
   "outputs": [],
   "source": [
    "test_loader = get_loader(\n",
    "    test_dataset, batch_size, shuffle=False, num_workers=num_workers\n",
    ")"
   ]
  },
  {
   "cell_type": "code",
   "execution_count": 17,
   "metadata": {},
   "outputs": [
    {
     "name": "stderr",
     "output_type": "stream",
     "text": [
      "validation ep. 0: 100%|██████████| 112/112 [00:10<00:00, 10.80it/s]"
     ]
    },
    {
     "name": "stdout",
     "output_type": "stream",
     "text": [
      "Validation - Loss: 0.898, Acc: 0.527, Prs: 0.896, Tmp: 0.159\n"
     ]
    },
    {
     "name": "stderr",
     "output_type": "stream",
     "text": [
      "\n"
     ]
    }
   ],
   "source": [
    "test_loss, test_acc, test_pr_acc, test_tmp_acc = print_validation_info(\n",
    "        criterion, device, model, test_loader, 0, 0\n",
    "    )"
   ]
  },
  {
   "cell_type": "markdown",
   "metadata": {},
   "source": [
    "The accuracy is about 0.527. The pristine accuracy is relatively high, 0.896. However, the detection rate (precision) of fake frames is quite 0.159 low even compared to random guessing."
   ]
  }
 ],
 "metadata": {
  "kernelspec": {
   "display_name": "Python 3",
   "language": "python",
   "name": "python3"
  },
  "language_info": {
   "codemirror_mode": {
    "name": "ipython",
    "version": 3
   },
   "file_extension": ".py",
   "mimetype": "text/x-python",
   "name": "python",
   "nbconvert_exporter": "python",
   "pygments_lexer": "ipython3",
   "version": "3.7.6"
  }
 },
 "nbformat": 4,
 "nbformat_minor": 4
}
